{
  "nbformat": 4,
  "nbformat_minor": 0,
  "metadata": {
    "colab": {
      "private_outputs": true,
      "provenance": [],
      "collapsed_sections": [
        "vncDsAP0Gaoa",
        "FJNUwmbgGyua",
        "w6K7xa23Elo4",
        "yQaldy8SH6Dl",
        "mDgbUHAGgjLW",
        "O_i_v8NEhb9l",
        "HhfV-JJviCcP",
        "Y3lxredqlCYt",
        "3RnN4peoiCZX",
        "x71ZqKXriCWQ",
        "7hBIi_osiCS2",
        "JlHwYmJAmNHm",
        "35m5QtbWiB9F",
        "PoPl-ycgm1ru",
        "H0kj-8xxnORC",
        "nA9Y7ga8ng1Z",
        "PBTbrJXOngz2",
        "u3PMJOP6ngxN",
        "dauF4eBmngu3",
        "bKJF3rekwFvQ",
        "MSa1f5Uengrz",
        "GF8Ens_Soomf",
        "0wOQAZs5pc--",
        "K5QZ13OEpz2H",
        "lQ7QKXXCp7Bj",
        "448CDAPjqfQr",
        "KSlN3yHqYklG",
        "t6dVpIINYklI",
        "ijmpgYnKYklI",
        "-JiQyfWJYklI",
        "EM7whBJCYoAo",
        "fge-S5ZAYoAp",
        "85gYPyotYoAp",
        "RoGjAbkUYoAp",
        "4Of9eVA-YrdM",
        "iky9q4vBYrdO",
        "F6T5p64dYrdO",
        "y-Ehk30pYrdP",
        "bamQiAODYuh1",
        "QHF8YVU7Yuh3",
        "GwzvFGzlYuh3",
        "qYpmQ266Yuh3",
        "OH-pJp9IphqM",
        "bbFf2-_FphqN",
        "_ouA3fa0phqN",
        "Seke61FWphqN",
        "PIIx-8_IphqN",
        "t27r6nlMphqO",
        "r2jJGEOYphqO",
        "b0JNsNcRphqO",
        "BZR9WyysphqO",
        "jj7wYXLtphqO",
        "eZrbJ2SmphqO",
        "rFu4xreNphqO",
        "YJ55k-q6phqO",
        "gCFgpxoyphqP",
        "OVtJsKN_phqQ",
        "lssrdh5qphqQ",
        "U2RJ9gkRphqQ",
        "1M8mcRywphqQ",
        "tgIPom80phqQ",
        "JMzcOPDDphqR",
        "x-EpHcCOp1ci",
        "X_VqEhTip1ck",
        "8zGJKyg5p1ck",
        "PVzmfK_Ep1ck",
        "n3dbpmDWp1ck",
        "ylSl6qgtp1ck",
        "ZWILFDl5p1ck",
        "M7G43BXep1ck",
        "Ag9LCva-p1cl",
        "E6MkPsBcp1cl",
        "2cELzS2fp1cl",
        "3MPXvC8up1cl",
        "NC_X3p0fY2L0",
        "UV0SzAkaZNRQ",
        "YPEH6qLeZNRQ",
        "q29F0dvdveiT",
        "EXh0U9oCveiU",
        "22aHeOlLveiV",
        "g-ATYxFrGrvw",
        "Yfr_Vlr8HBkt",
        "8yEUt7NnHlrM",
        "tEA2Xm5dHt1r",
        "I79__PHVH19G",
        "Ou-I18pAyIpj",
        "fF3858GYyt-u",
        "4_0_7-oCpUZd",
        "hwyV_J3ipUZe",
        "3yB-zSqbpUZe",
        "dEUvejAfpUZe",
        "Fd15vwWVpUZf",
        "bn_IUdTipZyH",
        "49K5P_iCpZyH",
        "Nff-vKELpZyI",
        "kLW572S8pZyI",
        "dWbDXHzopZyI",
        "yLjJCtPM0KBk",
        "xiyOF9F70UgQ",
        "7wuGOrhz0itI",
        "id1riN9m0vUs",
        "578E2V7j08f6",
        "89xtkJwZ18nB",
        "67NQN5KX2AMe",
        "Iwf50b-R2tYG",
        "GMQiZwjn3iu7",
        "WVIkgGqN3qsr",
        "XkPnILGE3zoT",
        "Hlsf0x5436Go",
        "mT9DMSJo4nBL",
        "c49ITxTc407N",
        "OeJFEK0N496M",
        "9ExmJH0g5HBk",
        "cJNqERVU536h",
        "k5UmGsbsOxih",
        "T0VqWOYE6DLQ",
        "qBMux9mC6MCf",
        "-oLEiFgy-5Pf",
        "C74aWNz2AliB",
        "2DejudWSA-a0",
        "pEMng2IbBLp7",
        "rAdphbQ9Bhjc",
        "TNVZ9zx19K6k",
        "nqoHp30x9hH9",
        "rMDnDkt2B6du",
        "yiiVWRdJDDil",
        "1UUpS68QDMuG",
        "kexQrXU-DjzY",
        "T5CmagL3EC8N",
        "BhH2vgX9EjGr",
        "qjKvONjwE8ra",
        "P1XJ9OREExlT",
        "VFOzZv6IFROw",
        "TIqpNgepFxVj",
        "VfCC591jGiD4",
        "OB4l2ZhMeS1U",
        "ArJBuiUVfxKd",
        "4qY1EAkEfxKe",
        "PiV4Ypx8fxKe",
        "TfvqoZmBfxKf",
        "dJ2tPlVmpsJ0",
        "JWYfwnehpsJ1",
        "-jK_YjpMpsJ2",
        "HAih1iBOpsJ2",
        "zVGeBEFhpsJ2",
        "bmKjuQ-FpsJ3",
        "Fze-IPXLpx6K",
        "7AN1z2sKpx6M",
        "9PIHJqyupx6M",
        "_-qAgymDpx6N",
        "Z-hykwinpx6N",
        "h_CCil-SKHpo",
        "cBFFvTBNJzUa",
        "HvGl1hHyA_VK",
        "EyNgTHvd2WFk",
        "KH5McJBi2d8v",
        "iW_Lq9qf2h6X",
        "-Kee-DAl2viO",
        "gCX9965dhzqZ",
        "gIfDvo9L0UH2"
      ],
      "include_colab_link": true
    },
    "kernelspec": {
      "name": "python3",
      "display_name": "Python 3"
    },
    "language_info": {
      "name": "python"
    }
  },
  "cells": [
    {
      "cell_type": "markdown",
      "metadata": {
        "id": "view-in-github",
        "colab_type": "text"
      },
      "source": [
        "<a href=\"https://colab.research.google.com/github/Mohini-Sharma-ds/Regression-prediction-model-/blob/main1/Transport_prediction(regression).ipynb\" target=\"_parent\"><img src=\"https://colab.research.google.com/assets/colab-badge.svg\" alt=\"Open In Colab\"/></a>"
      ]
    },
    {
      "cell_type": "markdown",
      "source": [
        "# **Project Name**    -\n",
        "\n"
      ],
      "metadata": {
        "id": "vncDsAP0Gaoa"
      }
    },
    {
      "cell_type": "markdown",
      "source": [
        "##### **Project Type**    - Regression\n",
        "##### **Contribution**    - Individual\n",
        "##### **Team Member **     -MOHINI SHARMA\n"
      ],
      "metadata": {
        "id": "beRrZCGUAJYm"
      }
    },
    {
      "cell_type": "markdown",
      "source": [
        "github link\n",
        "\n"
      ],
      "metadata": {
        "id": "3i6Ffbo0swjG"
      }
    },
    {
      "cell_type": "markdown",
      "source": [
        "# **Project Summary -**"
      ],
      "metadata": {
        "id": "FJNUwmbgGyua"
      }
    },
    {
      "cell_type": "markdown",
      "source": [
        "Write the summary here within 500-600 words.\n",
        "\n",
        "\n",
        "HEREBY ,I HAVE BEEN GIVEN THE DATASET OF BIKES DEMAND PREDICTION ON THE BASIS\n",
        "OF VARIOUS VARIABLES GIVEN ,OUR GOAL HERE INVOLVES FOLLOWING:\n",
        "\n",
        "1.  TO GO THROUGH EACH VARIABLE AND UNDERSTAND THE EFFECT OF THEM AGGREGATELY\n",
        "\n",
        "2.  TO DRAW IMPORTANT CONCLUSIONS REGARDING VARIABLES AND THEIR DEPENDENCY.\n",
        "\n",
        "3.  TO SHOW WORKINGS THROUGH VISUALIZATIONS.\n",
        "\n",
        "4.  TO MAKE DATA MORE EXPLICIT.\n",
        "\n",
        "5.  TO SHOW PREDICTION OF VARIABLES ,THROUGH TRAIN TEST  MODEL.\n",
        "\n",
        "6.  TO USE LASSO ,RIDGE TO OVERCOME OVERFITTING IN MODELS.\n"
      ],
      "metadata": {
        "id": "F6v_1wHtG2nS"
      }
    },
    {
      "cell_type": "markdown",
      "source": [
        "# **GitHub Link -**"
      ],
      "metadata": {
        "id": "w6K7xa23Elo4"
      }
    },
    {
      "cell_type": "markdown",
      "source": [
        "Provide your GitHub Link here.\n",
        "https://github.com/Mohini-Sharma-ds"
      ],
      "metadata": {
        "id": "h1o69JH3Eqqn"
      }
    },
    {
      "cell_type": "markdown",
      "source": [
        "# **Problem Statement**\n",
        "\n"
      ],
      "metadata": {
        "id": "yQaldy8SH6Dl"
      }
    },
    {
      "cell_type": "markdown",
      "source": [
        "**Write Problem Statement Here.**\n",
        "\n",
        "HERE ALL WE HAVE TO DO IS TO UNDERSTAND AND GENERATE THE DEPENDENCY OF BIKE DEMANDS PER HOUR ON THE BASIS OF VARIOUS FACTORS LIKE TEMPERATURE,HUMIDITY.\n",
        "\n",
        "SO WE WILL BE CO RELATING THE VARIABLES TO GENERATE OUR MODEL WHICH WILL FIT IN THE GIVEN DATASET TO GIVE GIVE AN APPROX IDEA WHILE FIXING THE OVERFITTING."
      ],
      "metadata": {
        "id": "DpeJGUA3kjGy"
      }
    },
    {
      "cell_type": "markdown",
      "source": [
        "# **General Guidelines** : -"
      ],
      "metadata": {
        "id": "mDgbUHAGgjLW"
      }
    },
    {
      "cell_type": "markdown",
      "source": [
        "1.   Well-structured, formatted, and commented code is required.\n",
        "2.   Exception Handling, Production Grade Code & Deployment Ready Code will be a plus. Those students will be awarded some additional credits.\n",
        "\n",
        "     The additional credits will have advantages over other students during Star Student selection.\n",
        "\n",
        "             [ Note: - Deployment Ready Code is defined as, the whole .ipynb notebook should be executable in one go\n",
        "                       without a single error logged. ]\n",
        "\n",
        "3.   Each and every logic should have proper comments.\n",
        "4. You may add as many number of charts you want. Make Sure for each and every chart the following format should be answered.\n",
        "\n",
        "\n",
        "```\n",
        "# Chart visualization code\n",
        "```\n",
        "\n",
        "\n",
        "*   Why did you pick the specific chart?\n",
        "*   What is/are the insight(s) found from the chart?\n",
        "* Will the gained insights help creating a positive business impact?\n",
        "Are there any insights that lead to negative growth? Justify with specific reason.\n",
        "\n",
        "5. You have to create at least 15 logical & meaningful charts having important insights.\n",
        "\n",
        "\n",
        "[ Hints : - Do the Vizualization in  a structured way while following \"UBM\" Rule.\n",
        "\n",
        "U - Univariate Analysis,\n",
        "\n",
        "B - Bivariate Analysis (Numerical - Categorical, Numerical - Numerical, Categorical - Categorical)\n",
        "\n",
        "M - Multivariate Analysis\n",
        " ]\n",
        "\n",
        "\n",
        "\n",
        "\n",
        "\n",
        "6. You may add more ml algorithms for model creation. Make sure for each and every algorithm, the following format should be answered.\n",
        "\n",
        "\n",
        "*   Explain the ML Model used and it's performance using Evaluation metric Score Chart.\n",
        "\n",
        "\n",
        "*   Cross- Validation & Hyperparameter Tuning\n",
        "\n",
        "*   Have you seen any improvement? Note down the improvement with updates Evaluation metric Score Chart.\n",
        "\n",
        "*   Explain each evaluation metric's indication towards business and the business impact pf the ML model used.\n",
        "\n",
        "\n",
        "\n",
        "\n",
        "\n",
        "\n",
        "\n",
        "\n",
        "\n",
        "\n",
        "\n",
        "\n",
        "\n",
        "\n",
        "\n",
        "\n",
        "\n",
        "\n"
      ],
      "metadata": {
        "id": "ZrxVaUj-hHfC"
      }
    },
    {
      "cell_type": "markdown",
      "source": [
        "# ***Let's Begin !***"
      ],
      "metadata": {
        "id": "O_i_v8NEhb9l"
      }
    },
    {
      "cell_type": "markdown",
      "source": [
        "## ***1. Know Your Data***"
      ],
      "metadata": {
        "id": "HhfV-JJviCcP"
      }
    },
    {
      "cell_type": "markdown",
      "source": [
        "### Import Libraries"
      ],
      "metadata": {
        "id": "Y3lxredqlCYt"
      }
    },
    {
      "cell_type": "code",
      "source": [
        "# Import Libraries\n",
        "\n",
        "import numpy as np\n",
        "import pandas as pd\n",
        "from numpy import math\n",
        "\n",
        "from sklearn.preprocessing import MinMaxScaler\n",
        "from sklearn.model_selection import train_test_split\n",
        "from sklearn.linear_model import LinearRegression\n",
        "from sklearn.metrics import r2_score\n",
        "from sklearn.metrics import mean_squared_error\n",
        "import matplotlib.pyplot as plt\n",
        "%matplotlib inline\n",
        "import seaborn as sns\n",
        "\n"
      ],
      "metadata": {
        "id": "M8Vqi-pPk-HR"
      },
      "execution_count": null,
      "outputs": []
    },
    {
      "cell_type": "markdown",
      "source": [
        "### Dataset Loading"
      ],
      "metadata": {
        "id": "3RnN4peoiCZX"
      }
    },
    {
      "cell_type": "code",
      "source": [
        "from google.colab import drive\n",
        "drive.mount('/content/drive')"
      ],
      "metadata": {
        "id": "3IkqUGMvpMgz"
      },
      "execution_count": null,
      "outputs": []
    },
    {
      "cell_type": "markdown",
      "source": [
        "### Dataset First View"
      ],
      "metadata": {
        "id": "x71ZqKXriCWQ"
      }
    },
    {
      "cell_type": "code",
      "source": [
        "# Dataset First Look\n",
        "dataset=pd.read_csv('/content/drive/MyDrive/SeoulBikeData.csv',encoding='unicode_escape')\n",
        "dataset.head()"
      ],
      "metadata": {
        "id": "LWNFOSvLl09H"
      },
      "execution_count": null,
      "outputs": []
    },
    {
      "cell_type": "markdown",
      "source": [
        "### Dataset Rows & Columns count"
      ],
      "metadata": {
        "id": "7hBIi_osiCS2"
      }
    },
    {
      "cell_type": "code",
      "source": [
        "# Dataset Rows & Columns count\n",
        "dataset.shape"
      ],
      "metadata": {
        "id": "Kllu7SJgmLij"
      },
      "execution_count": null,
      "outputs": []
    },
    {
      "cell_type": "markdown",
      "source": [
        "### Dataset Information"
      ],
      "metadata": {
        "id": "JlHwYmJAmNHm"
      }
    },
    {
      "cell_type": "code",
      "source": [
        "# Dataset Info\n",
        "dataset.info()"
      ],
      "metadata": {
        "id": "e9hRXRi6meOf"
      },
      "execution_count": null,
      "outputs": []
    },
    {
      "cell_type": "markdown",
      "source": [
        "#### Duplicate Values"
      ],
      "metadata": {
        "id": "35m5QtbWiB9F"
      }
    },
    {
      "cell_type": "code",
      "source": [
        "# Dataset Duplicate Value Count\n",
        "pd.DataFrame.duplicated(dataset).value_counts()\n"
      ],
      "metadata": {
        "id": "1sLdpKYkmox0"
      },
      "execution_count": null,
      "outputs": []
    },
    {
      "cell_type": "markdown",
      "source": [
        "#### Missing Values/Null Values"
      ],
      "metadata": {
        "id": "PoPl-ycgm1ru"
      }
    },
    {
      "cell_type": "code",
      "source": [
        "# Missing Values/Null Values Count\n",
        "dataset.isna().sum()"
      ],
      "metadata": {
        "id": "GgHWkxvamxVg"
      },
      "execution_count": null,
      "outputs": []
    },
    {
      "cell_type": "code",
      "source": [
        "# Visualizing the missing values\n",
        "dataset.isna().value_counts()"
      ],
      "metadata": {
        "id": "3q5wnI3om9sJ"
      },
      "execution_count": null,
      "outputs": []
    },
    {
      "cell_type": "markdown",
      "source": [
        "### What did you know about your dataset?"
      ],
      "metadata": {
        "id": "H0kj-8xxnORC"
      }
    },
    {
      "cell_type": "markdown",
      "source": [
        "Answer Here\n",
        "\n",
        "I KNOW THAT IN MY DATASET VARIOUS WEATHER CONDITIONS AND DAY SITUATIONS ARE GIVEN ,\n",
        "\n",
        "1.  TEMPERATURE ,HUMIDITY ,SNOWFALL,SUNRISE, SEASON,VISIBILITY ETC AFFECT THE DEMEMND OF BIKES .\n",
        "\n",
        "2.  PEOPLE PREFER MORE RIDINGS IN CERTAIN CONDITIONS.\n",
        "\n",
        "3.  DEMANDS ALSO CHANGE ON THE BASIS OF WORKING DAT ASPECT\n",
        "\n",
        "4.  HEREBY EACH VARIABLE GIVES SOE EXTEND OF DEPENDENCY ON NO.OF BIKES NEEDED."
      ],
      "metadata": {
        "id": "gfoNAAC-nUe_"
      }
    },
    {
      "cell_type": "markdown",
      "source": [
        "## ***2. Understanding Your Variables***"
      ],
      "metadata": {
        "id": "nA9Y7ga8ng1Z"
      }
    },
    {
      "cell_type": "code",
      "source": [
        "# Dataset Columns\n",
        "\n",
        "dataset.columns"
      ],
      "metadata": {
        "id": "j7xfkqrt5Ag5"
      },
      "execution_count": null,
      "outputs": []
    },
    {
      "cell_type": "code",
      "source": [
        "# Dataset Describe\n",
        "dataset.describe()\n",
        "\n"
      ],
      "metadata": {
        "id": "DnOaZdaE5Q5t"
      },
      "execution_count": null,
      "outputs": []
    },
    {
      "cell_type": "markdown",
      "source": [
        "### Variables Description"
      ],
      "metadata": {
        "id": "PBTbrJXOngz2"
      }
    },
    {
      "cell_type": "markdown",
      "source": [
        "Answer Here\n",
        "\n",
        "HOUR--- GIVES THE HOUR OF THE DAY WHICH MIGHT AFFECT THE BIKES DEMANDED AS PEOPLE PREFER TRAVELLING IN PARTICULAR HOURS\n",
        "\n",
        "TEMP.---GIVES THE TENPERATURE OF THE TIME SO AS TO GET A LINK BETWEEN IT AND DEMAND.\n",
        "\n",
        "HUMIDITY---GIVES THE HUMIDITY % IN  THE AIR WHICH MAY AFFECT THE DEMAND\n",
        "\n",
        "WIND SPEED---GIVES THE SPEED IN M/S AS NOT EVERY WIND MOVEMENT IS RIDE PREFERABLE\n",
        "\n",
        "VISISBILITY---GIVES THE VISIBILITY AS BLURY ENVT IS NOT RIDE PREFERABLE\n",
        "\n",
        "SOLAR RADIATION-----GIVES THE SOLAR RADIATION  AS NOT EVERY RADIATION IS RIDE PREFERABLE\n",
        "\n",
        "RAINFALL----GIVES THE RAINFALL IN MM AS NOT EVERY DEGREE IS RIDE PREFERABLE\n",
        "\n",
        "SNOWFALL---GIVES THE SNOWFALL AS NOT EVERY DEGREE IS RIDE PREFERABLE\n",
        "\n",
        "\n",
        "SEASON---GIVES THE PARTICULAR SEASON OF THE BIKE DEMAND AS IT MAY IMPACT CERTAINLY\n",
        "\n",
        "HOLIDAY---IT SURELY AFFECTS THE DEMAND OF BIKES AS IN HOLIDAYS PEOPLE DONT HAVE TO MOVE FOR WORK BUT FOR TRAVELLING'\n",
        "\n",
        "FUNCTIONING DAY---IT ALSO AFFCETS HUGELY AS IT GIVES WHETHER FUNCTIONALITY IS OPEN\n",
        "\n",
        "\n"
      ],
      "metadata": {
        "id": "aJV4KIxSnxay"
      }
    },
    {
      "cell_type": "markdown",
      "source": [
        "### Check Unique Values for each variable."
      ],
      "metadata": {
        "id": "u3PMJOP6ngxN"
      }
    },
    {
      "cell_type": "code",
      "source": [
        "# Check Unique Values for each variable\n",
        "\n"
      ],
      "metadata": {
        "id": "zms12Yq5n-jE"
      },
      "execution_count": null,
      "outputs": []
    },
    {
      "cell_type": "markdown",
      "source": [
        "## 3. ***Data Wrangling***"
      ],
      "metadata": {
        "id": "dauF4eBmngu3"
      }
    },
    {
      "cell_type": "markdown",
      "source": [
        "### Data Wrangling Code"
      ],
      "metadata": {
        "id": "bKJF3rekwFvQ"
      }
    },
    {
      "cell_type": "code",
      "source": [
        "# Write your code to make your dataset analysis ready.\n",
        "\n",
        "dataset['unique_id']=range(1,8761)\n",
        "dataset.head()"
      ],
      "metadata": {
        "id": "wk-9a2fpoLcV"
      },
      "execution_count": null,
      "outputs": []
    },
    {
      "cell_type": "markdown",
      "source": [
        "### What all manipulations have you done and insights you found?"
      ],
      "metadata": {
        "id": "MSa1f5Uengrz"
      }
    },
    {
      "cell_type": "markdown",
      "source": [
        "Answer Here.\n",
        "\n",
        "in my dataset ,there was no any null value ,so we didnt need to drop any and everything looked fine ,except the unique column to to uniquely show every row ⁉\n",
        "\n",
        "it will make counts of particular value easy and conclusions more accurate."
      ],
      "metadata": {
        "id": "LbyXE7I1olp8"
      }
    },
    {
      "cell_type": "markdown",
      "source": [
        "## ***4. Data Vizualization, Storytelling & Experimenting with charts : Understand the relationships between variables***"
      ],
      "metadata": {
        "id": "GF8Ens_Soomf"
      }
    },
    {
      "cell_type": "markdown",
      "source": [
        "#### Chart - 1"
      ],
      "metadata": {
        "id": "0wOQAZs5pc--"
      }
    },
    {
      "cell_type": "code",
      "source": [
        "# Chart - 1 visualization code\n",
        "#plt.figure(figsize=(7,7))\n",
        "dataset['Rented Bike Count'].skew()\n",
        "#dataset['Rented Bike Count']=dataset['Rented Bike Count'].astype(float)\n",
        "sns.distplot(dataset['Rented Bike Count'])\n",
        "plt.show()\n",
        "import numpy as np\n",
        "target=np.sqrt(dataset['Rented Bike Count'])\n",
        "sns.distplot(target)\n",
        "\n",
        "\n",
        "\n",
        "\n",
        "\n",
        "\n",
        "\n",
        "\n",
        "\n",
        "\n",
        "\n"
      ],
      "metadata": {
        "id": "7v_ESjsspbW7"
      },
      "execution_count": null,
      "outputs": []
    },
    {
      "cell_type": "markdown",
      "source": [
        "##### 1. Why did you pick the specific chart?"
      ],
      "metadata": {
        "id": "K5QZ13OEpz2H"
      }
    },
    {
      "cell_type": "markdown",
      "source": [
        "Answer Here.\n",
        "\n",
        "I picked up the particular density chart for given below various aspects:\n",
        "\n",
        "1.  in order to clearly have the glimps of bike demand at various hours.\n",
        "\n",
        "2.  in order to draw comparison easily and understand patterns.\n",
        "\n",
        "3.  so as to draw meaningful insights by an eye view\n",
        "\n",
        "4.  to make more understanding of trends.\n",
        "\n",
        "5.  so as to make data more concluded and explicit."
      ],
      "metadata": {
        "id": "XESiWehPqBRc"
      }
    },
    {
      "cell_type": "markdown",
      "source": [
        "##### 2. What is/are the insight(s) found from the chart?"
      ],
      "metadata": {
        "id": "lQ7QKXXCp7Bj"
      }
    },
    {
      "cell_type": "markdown",
      "source": [
        "Answer Here\n",
        "\n",
        "the insights found from the chart are as follows:\n",
        "\n",
        "1.  there are various trends of demand in the chart.\n",
        "\n",
        "2.  0-1000 bikes demand is most frequent\n",
        "\n",
        "3.  1000-2000 bikes are somehow mediocre in demand\n",
        "\n",
        "4.  2000-3000 are less in demand\n",
        "\n",
        "5.  3000-4000 are too invisible and are rarely occured."
      ],
      "metadata": {
        "id": "C_j1G7yiqdRP"
      }
    },
    {
      "cell_type": "markdown",
      "source": [
        "##### 3. Will the gained insights help creating a positive business impact?\n",
        "Are there any insights that lead to negative growth? Justify with specific reason."
      ],
      "metadata": {
        "id": "448CDAPjqfQr"
      }
    },
    {
      "cell_type": "markdown",
      "source": [
        "Answer Here\n",
        "\n",
        "The positive insights drawn from the chart can be explained in the following manner:\n",
        "\n",
        "1.  the most of the demand lies between500-1500,so it should be kept in mind and pervaisive availabilty should be there.\n",
        "\n",
        "2.  the demand is very rare in3000-4000 range ,so the outliers can be kept aside .\n",
        "\n",
        "3.  the most frequent demand of bikes should be most frequent availability of bikes.\n",
        "\n",
        "\n",
        "4.  decisions on future should be made keeping in mind the demand supply"
      ],
      "metadata": {
        "id": "3cspy4FjqxJW"
      }
    },
    {
      "cell_type": "markdown",
      "source": [
        "#### Chart - 2"
      ],
      "metadata": {
        "id": "KSlN3yHqYklG"
      }
    },
    {
      "cell_type": "code",
      "source": [
        "# Chart - 2 visualization code\n",
        "variables=dataset.describe().columns\n",
        "for col in variables[1:-1]:\n",
        "  plt.figure(figsize=(7,7))\n",
        "  feature=dataset[col]\n",
        "  label=dataset['Rented Bike Count']\n",
        "  plt.scatter(x=feature,y=label)\n",
        "  plt.xlabel(col)\n",
        "\n",
        "  plt.ylabel('Rented Bike Count')\n",
        "\n",
        "  plt.title('bike count'+ col)\n",
        "  z=np.polyfit(dataset[col],dataset['Rented Bike Count'],1)\n",
        "\n",
        "\n",
        "plt.show()\n",
        "\n"
      ],
      "metadata": {
        "id": "R4YgtaqtYklH"
      },
      "execution_count": null,
      "outputs": []
    },
    {
      "cell_type": "markdown",
      "source": [],
      "metadata": {
        "id": "-efP4ttlT3fc"
      }
    },
    {
      "cell_type": "markdown",
      "source": [
        "##### 1. Why did you pick the specific chart?"
      ],
      "metadata": {
        "id": "t6dVpIINYklI"
      }
    },
    {
      "cell_type": "markdown",
      "source": [
        "Answer Here.\n",
        "\n",
        "I picked up the particular scatter chart for given below various aspects:\n",
        "\n",
        "1.  in order to clearly have the glimps of bike demand at various hours.\n",
        "\n",
        "2.  in order to draw comparison easily and understand patterns.\n",
        "\n",
        "3.  so as to draw meaningful insights by an eye view\n",
        "\n",
        "4.  to make more understanding of trends.\n",
        "\n",
        "5.  so as to make data more concluded and explicit."
      ],
      "metadata": {
        "id": "5aaW0BYyYklI"
      }
    },
    {
      "cell_type": "markdown",
      "source": [
        "##### 2. What is/are the insight(s) found from the chart?"
      ],
      "metadata": {
        "id": "ijmpgYnKYklI"
      }
    },
    {
      "cell_type": "markdown",
      "source": [
        "Answer Here\n",
        "\n",
        "zThe insights found from the chart are as follows:\n",
        "\n",
        "1.  demand is high at 0,8,18,19 hours of the day.\n",
        "\n",
        "2.  demand is comparitively high in range of temperature15-25 degree celcius\n",
        "\n",
        "3.  humidity 30-70 show steep bike demand\n",
        "\n",
        "4.  wind speed1-3 n/s shows high bike demand.\n",
        "\n",
        "5.  for more visibility ,demand is high\n",
        "\n",
        "6. lesser the snowfall ,rainfall,solar radiation,more the rented bike demand."
      ],
      "metadata": {
        "id": "PSx9atu2YklI"
      }
    },
    {
      "cell_type": "markdown",
      "source": [
        "##### 3. Will the gained insights help creating a positive business impact?\n",
        "Are there any insights that lead to negative growth? Justify with specific reason."
      ],
      "metadata": {
        "id": "-JiQyfWJYklI"
      }
    },
    {
      "cell_type": "markdown",
      "source": [
        "Answer Here\n",
        "\n",
        "the positive insights can be drawn from the chart above:\n",
        "these are as follows:\n",
        "\n",
        " hereby our goal is to focus on variables and respective change in bike demands and provide with parameters to make positive business impcat this can be done by keeping and manipulating these:\n",
        "\n",
        "1.  demand is high at 0,8,18,19 hours of the day.\n",
        "\n",
        "2.  demand is comparitively high in range of temperature15-25 degree celcius\n",
        "\n",
        "3.  humidity 30-70 show steep bike demand\n",
        "\n",
        "4.  wind speed1-3 n/s shows high bike demand.\n",
        "\n",
        "5.  for more visibility ,demand is high\n",
        "\n",
        "6. lesser the snowfall ,rainfall,solar radiation,more the rented bike demand."
      ],
      "metadata": {
        "id": "BcBbebzrYklV"
      }
    },
    {
      "cell_type": "markdown",
      "source": [
        "#### Chart - 3"
      ],
      "metadata": {
        "id": "EM7whBJCYoAo"
      }
    },
    {
      "cell_type": "code",
      "source": [
        "# Chart - 3 visualization code\n",
        "for col in variables[1:-1]:\n",
        "  fig=plt.figure(figsize=(7,7))\n",
        "  ax=fig.gca()\n",
        "  feature=dataset[col]\n",
        "  feature.hist(bins=50,ax=ax)\n",
        "  ax.axvline(feature.mean(),color='magenta',linestyle='dashed')\n",
        "  ax.axvline(feature.median(),color='cyan',linestyle='dashed')\n",
        "  ax.set_title(col)\n",
        "\n",
        "\n",
        "\n",
        "plt.show()\n"
      ],
      "metadata": {
        "id": "t6GMdE67YoAp"
      },
      "execution_count": null,
      "outputs": []
    },
    {
      "cell_type": "markdown",
      "source": [
        "##### 1. Why did you pick the specific chart?"
      ],
      "metadata": {
        "id": "fge-S5ZAYoAp"
      }
    },
    {
      "cell_type": "markdown",
      "source": [
        "Answer Here.\n",
        "\n",
        "I picked up the particular histogram chart for given below various aspects:\n",
        "\n",
        "1.  in order to clearly have the glimps of bike demand at various hours.\n",
        "\n",
        "2.  in order to draw comparison easily and understand patterns.\n",
        "\n",
        "3.  so as to draw meaningful insights by an eye view\n",
        "\n",
        "4.  to make more understanding of trends.\n",
        "\n",
        "5.  so as to make data more concluded and explicit."
      ],
      "metadata": {
        "id": "5dBItgRVYoAp"
      }
    },
    {
      "cell_type": "markdown",
      "source": [
        "##### 2. What is/are the insight(s) found from the chart?"
      ],
      "metadata": {
        "id": "85gYPyotYoAp"
      }
    },
    {
      "cell_type": "markdown",
      "source": [
        "[link text](https://)Answer Here\n",
        "\n",
        "The insights found from the chart are as follows:\n",
        "\n",
        "1.  demand is high at 0,8,18,19 hours of the day.\n",
        "\n",
        "2.  demand is comparitively high in range of temperature15-25 degree celcius\n",
        "\n",
        "3.  humidity 30-70 show steep bike demand\n",
        "\n",
        "4.  wind speed1-3 n/s shows high bike demand.\n",
        "\n",
        "5.  for more visibility ,demand is high\n",
        "\n",
        "6. lesser the snowfall ,rainfall,solar radiation,more the rented bike demand."
      ],
      "metadata": {
        "id": "4jstXR6OYoAp"
      }
    },
    {
      "cell_type": "markdown",
      "source": [
        "##### 3. Will the gained insights help creating a positive business impact?\n",
        "Are there any insights that lead to negative growth? Justify with specific reason."
      ],
      "metadata": {
        "id": "RoGjAbkUYoAp"
      }
    },
    {
      "cell_type": "markdown",
      "source": [
        "Answer Here\n",
        "\n",
        "the positive insights can be drawn from the chart above:\n",
        "these are as follows:\n",
        "\n",
        " hereby our goal is to focus on variables and respective change in bike demands and provide with parameters to make positive business impcat this can be done by keeping and manipulating these:\n",
        "\n",
        "1.  demand is high at 0,8,18,19 hours of the day.\n",
        "\n",
        "2.  demand is comparitively high in range of temperature15-25 degree celcius\n",
        "\n",
        "3.  humidity 30-70 show steep bike demand\n",
        "\n",
        "4.  wind speed1-3 n/s shows high bike demand.\n",
        "\n",
        "5.  for more visibility ,demand is high\n",
        "\n",
        "6. lesser the snowfall ,rainfall,solar radiation,more the rented bike demand."
      ],
      "metadata": {
        "id": "zfJ8IqMcYoAp"
      }
    },
    {
      "cell_type": "markdown",
      "source": [
        "#### Chart - 4"
      ],
      "metadata": {
        "id": "4Of9eVA-YrdM"
      }
    },
    {
      "cell_type": "code",
      "source": [
        "# Chart - 4 visualization code\n",
        "\n",
        "mydf=dataset['Rented Bike Count'].value_counts()\n",
        "plt.plot(mydf)\n",
        "plt.xlabel('no.of bikes')\n",
        "plt.ylabel('counts of bikes')"
      ],
      "metadata": {
        "id": "irlUoxc8YrdO"
      },
      "execution_count": null,
      "outputs": []
    },
    {
      "cell_type": "code",
      "source": [],
      "metadata": {
        "id": "aEnlIYKBYR4p"
      },
      "execution_count": null,
      "outputs": []
    },
    {
      "cell_type": "markdown",
      "source": [
        "##### 1. Why did you pick the specific chart?"
      ],
      "metadata": {
        "id": "iky9q4vBYrdO"
      }
    },
    {
      "cell_type": "markdown",
      "source": [
        "Answer Here.\n",
        "\n",
        "I picked up the particular line chart for given below various aspects:\n",
        "\n",
        "1.  in order to clearly have the glimps of bike demand at various hours.\n",
        "\n",
        "2.  in order to draw comparison easily and understand patterns.\n",
        "\n",
        "3.  so as to draw meaningful insights by an eye view\n",
        "\n",
        "4.  to make more understanding of trends.\n",
        "\n",
        "5.  so as to make data more concluded and explicit."
      ],
      "metadata": {
        "id": "aJRCwT6DYrdO"
      }
    },
    {
      "cell_type": "markdown",
      "source": [
        "##### 2. What is/are the insight(s) found from the chart?"
      ],
      "metadata": {
        "id": "F6T5p64dYrdO"
      }
    },
    {
      "cell_type": "markdown",
      "source": [
        "Answer Here\n",
        "\n",
        "The insights found from the chart are as follows:\n",
        "\n",
        "1. here the approx200-500 no.of bikes are in greatest frequency.\n",
        "\n",
        "2.  hereby the demand of rented bikes\n",
        "\n",
        "3.  there are various trends of demand in the chart.\n",
        "\n",
        "4.  0-1000 bikes demand is most frequent\n",
        "\n",
        "5.  1000-2000 bikes are somehow mediocre in demand\n",
        "\n",
        "6.  2000-3000 are less in demand\n",
        "\n",
        "7.  3000-4000 are too invisible and are rarely occured."
      ],
      "metadata": {
        "id": "Xx8WAJvtYrdO"
      }
    },
    {
      "cell_type": "markdown",
      "source": [
        "##### 3. Will the gained insights help creating a positive business impact?\n",
        "Are there any insights that lead to negative growth? Justify with specific reason."
      ],
      "metadata": {
        "id": "y-Ehk30pYrdP"
      }
    },
    {
      "cell_type": "markdown",
      "source": [
        "Answer Here\n",
        "\n",
        "The positive insights drawn from the chart can be explained in the following manner:\n",
        "\n",
        "1.  the most of the demand lies between500-1500,so it should be kept in mind and pervaisive availabilty should be there.\n",
        "\n",
        "2.  the demand is very rare in3000-4000 range ,so the outliers can be kept aside .\n",
        "\n",
        "3.  the most frequent demand of bikes should be most frequent availability of bikes.\n",
        "\n",
        "\n",
        "4.  decisions on future should be made keeping in mind the demand supply"
      ],
      "metadata": {
        "id": "jLNxxz7MYrdP"
      }
    },
    {
      "cell_type": "markdown",
      "source": [
        "#### Chart - 5"
      ],
      "metadata": {
        "id": "bamQiAODYuh1"
      }
    },
    {
      "cell_type": "code",
      "source": [
        "# Chart - 5 visualization code\n",
        "variables=dataset.describe().columns\n",
        "for col in variables[1:-1]:\n",
        "  plt.figure(figsize=(7,7))\n",
        "  feature=dataset[col]\n",
        "  label=dataset['Rented Bike Count']\n",
        "  plt.boxplot(x=feature)\n",
        "  plt.xlabel(col)\n",
        "\n",
        "\n",
        "plt.show()\n"
      ],
      "metadata": {
        "id": "TIJwrbroYuh3"
      },
      "execution_count": null,
      "outputs": []
    },
    {
      "cell_type": "markdown",
      "source": [
        "1. Why did you pick the specific chart?"
      ],
      "metadata": {
        "id": "Hvua-rxiZWCK"
      }
    },
    {
      "cell_type": "markdown",
      "source": [
        "*Answer* Here.\n",
        "\n",
        "I picked up the particular box chart for given below various aspects:\n",
        "\n",
        "1.  in order to clearly have the glimps of frequent and mean values in variables\n",
        "2.  in order to draw comparison easily and understand patterns.\n",
        "\n",
        "3.  so as to draw meaningful insights by an eye view\n",
        "\n",
        "4.  to make more understanding of trends.\n",
        "\n",
        "5.  so as to make data more concluded and explicit."
      ],
      "metadata": {
        "id": "dcxuIMRPYuh3"
      }
    },
    {
      "cell_type": "markdown",
      "source": [
        "2. What is/are the insight(s) found from the chart?"
      ],
      "metadata": {
        "id": "vv1EptnlZgtr"
      }
    },
    {
      "cell_type": "markdown",
      "source": [
        "the given box plot help us to understand the common place and anomal values of variables which impact our dependent variables.:\n",
        "\n",
        "1. 5-15 hours are our most frequent hours ,rest all outliers.\n",
        "\n",
        "2.  7-23 degree celcius is our normal temperature in which bike are rented commonly.\n",
        "\n",
        "3.  40-70 is our common humidity.\n",
        "\n",
        "4.  average wind sped is 1-2\n",
        "\n",
        "5.  visibility is 800-2000\n",
        "\n",
        "6.  solar radiation is 0.0-1.0 is most commin\n",
        "\n",
        "7.  snowfall and rainfall are not significant"
      ],
      "metadata": {
        "id": "M-w4S7U9Zgl7"
      }
    },
    {
      "cell_type": "markdown",
      "source": [
        "3. Will the gained insights help creating a positive business impact?\n",
        "Are there any insights that lead to negative growth? Justify with specific reason.\n",
        "\n"
      ],
      "metadata": {
        "id": "fbIk6XneZgSE"
      }
    },
    {
      "cell_type": "markdown",
      "source": [
        "\n",
        "the positive insights can be drawn from the chart above:\n",
        "these are as follows:\n",
        "\n",
        " hereby our goal is to focus on variables and respective change in bike demands and provide with parameters to make positive business impcat this can be done by keeping and manipulating these:\n",
        "\n",
        "1.  demand is high at 0,8,18,19 hours of the day.\n",
        "\n",
        "2.  demand is comparitively high in range of temperature15-25 degree celcius\n",
        "\n",
        "3.  humidity 30-70 show steep bike demand\n",
        "\n",
        "4.  wind speed1-3 n/s shows high bike demand.\n",
        "\n",
        "5.  for more visibility ,demand is high\n",
        "\n",
        "6. lesser the snowfall ,rainfall,solar radiation,more the rented bike demand.\n",
        "\n"
      ],
      "metadata": {
        "id": "VO0rzg84ZgOo"
      }
    },
    {
      "cell_type": "markdown",
      "source": [
        "#### Chart - 14 - Correlation Heatmap"
      ],
      "metadata": {
        "id": "NC_X3p0fY2L0"
      }
    },
    {
      "cell_type": "code",
      "source": [
        "# Correlation Heatmap visualization code\n",
        "plt.figure(figsize=(10,10))\n",
        "correlation=dataset.corr()\n",
        "sns.heatmap(abs(correlation))"
      ],
      "metadata": {
        "id": "xyC9zolEZNRQ"
      },
      "execution_count": null,
      "outputs": []
    },
    {
      "cell_type": "markdown",
      "source": [
        "##### 1. Why did you pick the specific chart?"
      ],
      "metadata": {
        "id": "UV0SzAkaZNRQ"
      }
    },
    {
      "cell_type": "markdown",
      "source": [
        "Answer Here.\n",
        "\n",
        "I picked up the particular heatmap for given below various aspects:\n",
        "\n",
        "1.  in order to clearly have the glimps of bike demand at various hours.\n",
        "\n",
        "2.  in order to draw comparison easily and understand patterns.\n",
        "\n",
        "3.  so as to draw meaningful insights by an eye view\n",
        "\n",
        "4.  to make more understanding of trends.\n",
        "\n",
        "5.  so as to make data more concluded and explicit."
      ],
      "metadata": {
        "id": "DVPuT8LYZNRQ"
      }
    },
    {
      "cell_type": "markdown",
      "source": [
        "##### 2. What is/are the insight(s) found from the chart?"
      ],
      "metadata": {
        "id": "YPEH6qLeZNRQ"
      }
    },
    {
      "cell_type": "markdown",
      "source": [
        "Answer Here\n",
        "\n",
        "The insights found from the chart are as follows:\n",
        "\n",
        "1.  temperature is correlated to mediocre degree to rented bijes demand.\n",
        "\n",
        "2.  humidity is corelated to visibility and solar radiation.\n",
        "\n",
        "3.  rest most of the variables show little or no dependency .\n",
        "\n",
        "4. hereby keeping in mind the variables we can try to manipulate each other from business prospect."
      ],
      "metadata": {
        "id": "bfSqtnDqZNRR"
      }
    },
    {
      "cell_type": "markdown",
      "source": [
        "#### Chart - 15 - Pair Plot"
      ],
      "metadata": {
        "id": "q29F0dvdveiT"
      }
    },
    {
      "cell_type": "code",
      "source": [
        "# Pair Plot visualization code\n",
        "\n",
        "sns.pairplot(dataset)"
      ],
      "metadata": {
        "id": "o58-TEIhveiU"
      },
      "execution_count": null,
      "outputs": []
    },
    {
      "cell_type": "markdown",
      "source": [
        "##### 1. Why did you pick the specific chart?"
      ],
      "metadata": {
        "id": "EXh0U9oCveiU"
      }
    },
    {
      "cell_type": "markdown",
      "source": [
        "Answer Here.\n",
        "\n",
        "I picked up the particular pair plot chart for given below various aspects:\n",
        "\n",
        "1.  in order to clearly have the glimps of bike demand at various hours.\n",
        "\n",
        "2.  in order to draw comparison easily and understand patterns.\n",
        "\n",
        "3.  so as to draw meaningful insights by an eye view\n",
        "\n",
        "4.  to make more understanding of trends.\n",
        "\n",
        "5.  so as to make data more concluded and explicit."
      ],
      "metadata": {
        "id": "eMmPjTByveiU"
      }
    },
    {
      "cell_type": "markdown",
      "source": [
        "##### 2. What is/are the insight(s) found from the chart?"
      ],
      "metadata": {
        "id": "22aHeOlLveiV"
      }
    },
    {
      "cell_type": "markdown",
      "source": [
        "Answer Here\n",
        "\n",
        "The insights found from the chart are as follows:\n",
        "\n",
        "1.  temperature is correlated to mediocre degree to rented bijes demand.\n",
        "\n",
        "2.  humidity is corelated to visibility and solar radiation.\n",
        "\n",
        "3.  rest most of the variables show little or no dependency .\n",
        "\n",
        "4. hereby keeping in mind the variables we can try to manipulate each other from business prospect."
      ],
      "metadata": {
        "id": "uPQ8RGwHveiV"
      }
    },
    {
      "cell_type": "markdown",
      "source": [
        "## ***6. Feature Engineering & Data Pre-processing***"
      ],
      "metadata": {
        "id": "yLjJCtPM0KBk"
      }
    },
    {
      "cell_type": "markdown",
      "source": [
        "### 1. Handling Missing Values"
      ],
      "metadata": {
        "id": "xiyOF9F70UgQ"
      }
    },
    {
      "cell_type": "code",
      "source": [
        "# Handling Missing Values & Missing Value Imputation\n",
        "\n",
        "dataset.isna().sum()"
      ],
      "metadata": {
        "id": "iRsAHk1K0fpS"
      },
      "execution_count": null,
      "outputs": []
    },
    {
      "cell_type": "markdown",
      "source": [
        "#### What all missing value imputation techniques have you used and why did you use those techniques?"
      ],
      "metadata": {
        "id": "7wuGOrhz0itI"
      }
    },
    {
      "cell_type": "markdown",
      "source": [
        "Answer Here.\n",
        "\n",
        "there are no missing values ,so did nothing ,but wrote code to see missing values if any"
      ],
      "metadata": {
        "id": "1ixusLtI0pqI"
      }
    },
    {
      "cell_type": "markdown",
      "source": [
        "### 2. Handling Outliers"
      ],
      "metadata": {
        "id": "id1riN9m0vUs"
      }
    },
    {
      "cell_type": "code",
      "source": [
        "# Handling Outliers & Outlier treatments\n",
        "\n",
        "from scipy import stats\n",
        "import numpy as np\n",
        "\n",
        "#dataset[(dataset['Temperature(°C)']>-10)&(dataset['Humidity(%)']>30)&(dataset['Visibility (10m)']>1000)&(dataset['Wind speed (m/s)']<3)&(dataset['Solar Radiation (MJ/m2)']<1)&(dataset['Dew point temperature(°C)']<25)]"
      ],
      "metadata": {
        "id": "M6w2CzZf04JK"
      },
      "execution_count": null,
      "outputs": []
    },
    {
      "cell_type": "markdown",
      "source": [
        "##### What all outlier treatment techniques have you used and why did you use those techniques?"
      ],
      "metadata": {
        "id": "578E2V7j08f6"
      }
    },
    {
      "cell_type": "markdown",
      "source": [
        "\n",
        "Answer Here.\n",
        "\n",
        "THE TECHNIQUE I USED FOR REMOVING OUTLIERS INVOLVES FOLLOWING STEPS:\n",
        "\n",
        "1.  FIRST WE HAVE ALREADY MADE BOXPLOT AND HISTOGRAM IN CHARTS FROM WHERE WE GET TO KNOW ALL COMMON RANGE AND OUTLIERS\n",
        "\n",
        "2.  NOW WE HAVE MADE NEW DATASET TO INCLUDE ALL VARIABLES BY USING FLITERS\n",
        "\n",
        "3. THIS TECHNIQUE IS SOMEHOW SIMPLE AND EASY TO USE."
      ],
      "metadata": {
        "id": "uGZz5OrT1HH-"
      }
    },
    {
      "cell_type": "markdown",
      "source": [
        "### 3. Categorical Encoding"
      ],
      "metadata": {
        "id": "89xtkJwZ18nB"
      }
    },
    {
      "cell_type": "code",
      "source": [
        "# Encode your categorical columns\n",
        "print(dataset['Seasons'].value_counts())\n",
        "\n",
        "print(dataset['Holiday'].value_counts())\n",
        "\n",
        "print(dataset['Functioning Day'].value_counts())"
      ],
      "metadata": {
        "id": "21JmIYMG2hEo"
      },
      "execution_count": null,
      "outputs": []
    },
    {
      "cell_type": "code",
      "source": [
        "#encode\n",
        "\n",
        "encoding={'Seasons':{'Autumn':1,'Winter':2,'Spring':3,'Summer':4},'Holiday':{'No Holiday':1,'Holiday':2},'Functioning Day':{'Yes':1,'No':2}}\n"
      ],
      "metadata": {
        "id": "rnq_OADAIrcW"
      },
      "execution_count": null,
      "outputs": []
    },
    {
      "cell_type": "markdown",
      "source": [
        "#### What all categorical encoding techniques have you used & why did you use those techniques?"
      ],
      "metadata": {
        "id": "67NQN5KX2AMe"
      }
    },
    {
      "cell_type": "markdown",
      "source": [
        "Answer Here.\n",
        "\n",
        "firstly ,i have created a copy of my dataset in order to encode categorical variables to numeric.\n",
        "\n",
        "tgen we have make a code where by we haveassigned the numercic values to each category of categorical data\n",
        "\n",
        "then we have replaced the values\n"
      ],
      "metadata": {
        "id": "UDaue5h32n_G"
      }
    },
    {
      "cell_type": "markdown",
      "source": [
        "### 4. Textual Data Preprocessing\n",
        "(It's mandatory for textual dataset i.e., NLP, Sentiment Analysis, Text Clustering etc.)"
      ],
      "metadata": {
        "id": "Iwf50b-R2tYG"
      }
    },
    {
      "cell_type": "markdown",
      "source": [
        "#### 1. Expand Contraction"
      ],
      "metadata": {
        "id": "GMQiZwjn3iu7"
      }
    },
    {
      "cell_type": "code",
      "source": [
        "# Expand Contraction\n",
        "\n",
        "dataset['Demand']=dataset['Rented Bike Count'].apply(lambda x : 'low' if x < 400 else ('mediocre' if 400<= x < 800 else 'high'))"
      ],
      "metadata": {
        "id": "PTouz10C3oNN"
      },
      "execution_count": null,
      "outputs": []
    },
    {
      "cell_type": "code",
      "source": [
        "#removing multicollinearity\n",
        "dataset.get('Temperature(°C)')\n",
        "dataset['overall temp']=0.5*dataset['Temperature(°C)'] + 0.5*dataset['Dew point temperature(°C)']\n",
        "dataset.drop(['Temperature(°C)','Dew point temperature(°C)'],inplace=True,axis=1)"
      ],
      "metadata": {
        "id": "HRBDFeGUQVNi"
      },
      "execution_count": null,
      "outputs": []
    },
    {
      "cell_type": "markdown",
      "source": [
        "### 4. Feature Manipulation & Selection"
      ],
      "metadata": {
        "id": "-oLEiFgy-5Pf"
      }
    },
    {
      "cell_type": "markdown",
      "source": [
        "#### 1. Feature Manipulation"
      ],
      "metadata": {
        "id": "C74aWNz2AliB"
      }
    },
    {
      "cell_type": "code",
      "metadata": {
        "id": "TTLBd3doqhi_"
      },
      "source": [
        " ## Correlation\n",
        "plt.figure(figsize=(15,8))\n",
        "correlation = dataset.corr('pearson')\n",
        "sns.heatmap(abs(correlation), annot=True, cmap='coolwarm')"
      ],
      "execution_count": null,
      "outputs": []
    },
    {
      "cell_type": "code",
      "source": [
        "dataset['visibility and humidity']=0.5*dataset['Humidity(%)']+0.5*dataset['Visibility (10m)']"
      ],
      "metadata": {
        "id": "FOu8oMriQG4P"
      },
      "execution_count": null,
      "outputs": []
    },
    {
      "cell_type": "code",
      "source": [
        "# Manipulate Features to minimize feature correlation and create new features\n",
        "\n",
        "dataset['Demand']=dataset['Rented Bike Count'].apply(lambda x : 'low' if x < 400 else ('mediocre' if 400<= x < 800 else 'high'))\n",
        "dataset.drop(['Humidity(%)','Visibility (10m)'],inplace=True,axis=1)"
      ],
      "metadata": {
        "id": "h1qC4yhBApWC"
      },
      "execution_count": null,
      "outputs": []
    },
    {
      "cell_type": "markdown",
      "source": [
        "#### 2. Feature Selection"
      ],
      "metadata": {
        "id": "2DejudWSA-a0"
      }
    },
    {
      "cell_type": "code",
      "source": [
        "from statsmodels.stats.outliers_influence import variance_inflation_factor\n",
        "def calc_vif(X):\n",
        "\n",
        "    # Calculating VIF\n",
        "    vif = pd.DataFrame()\n",
        "    vif[\"variables\"] = X.columns\n",
        "    vif[\"VIF\"] = [variance_inflation_factor(X.values, i) for i in range(X.shape[1])]\n",
        "\n",
        "    return(vif)"
      ],
      "metadata": {
        "id": "cgeuFQC9h4gA"
      },
      "execution_count": null,
      "outputs": []
    },
    {
      "cell_type": "code",
      "source": [
        "calc_vif(dataset[[i for i in dataset.describe().columns if i not in ['Rented_Bike_Count','Hour','unique_id']]])"
      ],
      "metadata": {
        "id": "oSafOlU7h6q4"
      },
      "execution_count": null,
      "outputs": []
    },
    {
      "cell_type": "code",
      "source": [
        "# Select your features wisely to avoid overfitting\n",
        "numerical_features=['Wind speed (m/s)','Solar Radiation (MJ/m2)', 'Rainfall(mm)', 'Snowfall (cm)','overall temp','visibility and humidity']\n"
      ],
      "metadata": {
        "id": "YLhe8UmaBCEE"
      },
      "execution_count": null,
      "outputs": []
    },
    {
      "cell_type": "code",
      "source": [
        "dataset.columns"
      ],
      "metadata": {
        "id": "0W2iiyuooesa"
      },
      "execution_count": null,
      "outputs": []
    },
    {
      "cell_type": "code",
      "source": [
        "dataset_copy=dataset.copy()"
      ],
      "metadata": {
        "id": "x8qtUO9l5pcF"
      },
      "execution_count": null,
      "outputs": []
    },
    {
      "cell_type": "code",
      "source": [
        "### Data encoding\n",
        "#label encoding\n",
        "encoders_nums = {\"Seasons\":{\"Summer\":1,\"Winter\":0,\"Spring\":2,\"Autumn\":3},\n",
        "                 \"Holiday\":{\"Holiday\": 0, \"No Holiday\": 1},\"Functioning Day\":{\"Yes\":0,\"No\":1}\n",
        "                  }\n",
        "dataset_copy=dataset_copy.replace(encoders_nums)"
      ],
      "metadata": {
        "id": "tU4C-14vEau4"
      },
      "execution_count": null,
      "outputs": []
    },
    {
      "cell_type": "code",
      "source": [
        "dataset_copy.head()"
      ],
      "metadata": {
        "id": "bRp4slc7Y44q"
      },
      "execution_count": null,
      "outputs": []
    },
    {
      "cell_type": "code",
      "source": [
        "features = numerical_features.copy()\n",
        "features.extend(['Seasons','Holiday','Functioning Day'])"
      ],
      "metadata": {
        "id": "612JP_6fZxCd"
      },
      "execution_count": null,
      "outputs": []
    },
    {
      "cell_type": "code",
      "source": [
        "features"
      ],
      "metadata": {
        "id": "WIYsHgokaIJp"
      },
      "execution_count": null,
      "outputs": []
    },
    {
      "cell_type": "code",
      "source": [
        "dataset_copy.columns"
      ],
      "metadata": {
        "id": "dNjUXcZoor5B"
      },
      "execution_count": null,
      "outputs": []
    },
    {
      "cell_type": "markdown",
      "source": [
        "##### What all feature selection methods have you used  and why?"
      ],
      "metadata": {
        "id": "pEMng2IbBLp7"
      }
    },
    {
      "cell_type": "markdown",
      "source": [
        "Answer Here.\n",
        "\n",
        "hereby firstly i have selected the important numerical features of my dataset to work upon :\n",
        "\n",
        "hereby i have excluded the categorical features already .\n",
        "\n",
        "also i have combined the temperature and excluded twice varaibles to avoid mulricollinearity."
      ],
      "metadata": {
        "id": "rb2Lh6Z8BgGs"
      }
    },
    {
      "cell_type": "markdown",
      "source": [
        "##### Which all features you found important and why?"
      ],
      "metadata": {
        "id": "rAdphbQ9Bhjc"
      }
    },
    {
      "cell_type": "markdown",
      "source": [
        "Answer Here.\n",
        "\n",
        "The important features according to me are:\n",
        "\n",
        "1.'Rented Bike Count', 'Hour','Humidity(%)',\n",
        "       'Wind speed (m/s)', 'Visibility (10m)','overall_temperature'\n",
        "       'Solar Radiation (MJ/m2)', 'Rainfall(mm)', 'Snowfall (cm)']\n",
        "\n",
        "as they all are important in drawing the conclusions about my prediction .they all are numerical data at all and contains important aspect\n",
        "\n"
      ],
      "metadata": {
        "id": "fGgaEstsBnaf"
      }
    },
    {
      "cell_type": "markdown",
      "source": [
        "### 6. Data Scaling"
      ],
      "metadata": {
        "id": "rMDnDkt2B6du"
      }
    },
    {
      "cell_type": "code",
      "source": [
        "# Scaling your data\n",
        "from sklearn.preprocessing import MinMaxScaler\n",
        "dataset_copy.columns"
      ],
      "metadata": {
        "id": "dL9LWpySC6x_"
      },
      "execution_count": null,
      "outputs": []
    },
    {
      "cell_type": "markdown",
      "source": [
        "##### Which method have you used to scale you data and why?\n",
        "\n",
        "I have used minmaxscaler because:\n",
        "\n",
        "1.  for having a light touch in our dataset\n",
        "\n",
        "2.  as minmaxscaler is non-distorting."
      ],
      "metadata": {
        "id": "yiiVWRdJDDil"
      }
    },
    {
      "cell_type": "markdown",
      "source": [
        "### 7. Dimesionality Reduction"
      ],
      "metadata": {
        "id": "1UUpS68QDMuG"
      }
    },
    {
      "cell_type": "markdown",
      "source": [
        "##### Do you think that dimensionality reduction is needed? Explain Why?"
      ],
      "metadata": {
        "id": "kexQrXU-DjzY"
      }
    },
    {
      "cell_type": "markdown",
      "source": [
        "Answer Here."
      ],
      "metadata": {
        "id": "GGRlBsSGDtTQ"
      }
    },
    {
      "cell_type": "code",
      "source": [
        "# DImensionality Reduction (If needed)\n",
        "\n",
        "features=numerical_features.copy()\n",
        "features.extend(['Seasons','Holiday','Functioning Day'])\n",
        "features"
      ],
      "metadata": {
        "id": "kQfvxBBHDvCa"
      },
      "execution_count": null,
      "outputs": []
    },
    {
      "cell_type": "markdown",
      "source": [
        "##### Which dimensionality reduction technique have you used and why? (If dimensionality reduction done on dataset.)"
      ],
      "metadata": {
        "id": "T5CmagL3EC8N"
      }
    },
    {
      "cell_type": "markdown",
      "source": [
        "Answer Here.\n",
        "\n",
        "i have used feature selection technique to fliter the variables i need:\n",
        "\n",
        "it facilitates the working on dataset\n",
        "\n",
        "it concentrate the focus on important things.\n",
        "\n",
        "it helps i prediaction very well"
      ],
      "metadata": {
        "id": "ZKr75IDuEM7t"
      }
    },
    {
      "cell_type": "markdown",
      "source": [
        "### 8. Data Splitting"
      ],
      "metadata": {
        "id": "BhH2vgX9EjGr"
      }
    },
    {
      "cell_type": "code",
      "source": [
        "# Split your data to train and test. Choose Splitting ratio wisely.\n",
        "\n",
        "dataset_copy.replace([np.inf, -np.inf],np.nan,inplace=True)\n",
        "dataset_copy.fillna(0,inplace=True)\n",
        "dataset_copy['Rented Bike Count']=dataset_copy['Rented Bike Count'].astype(int)\n",
        "from scipy.stats import zscore\n",
        "#Train test split\n",
        "#dataset_copy['Rented Bike Count'].astype(np.float64)\n",
        "X = dataset_copy[features].apply(zscore)\n",
        "y = np.cbrt(dataset_copy['Rented Bike Count'])\n",
        "\n",
        "#train test split\n",
        "from sklearn.model_selection import train_test_split\n",
        "X_train, X_test, y_train, y_test = train_test_split( X,y , test_size = 0.2, random_state = 0)\n",
        "print(X_train.shape)\n",
        "print(X_test.shape)\n"
      ],
      "metadata": {
        "id": "0CTyd2UwEyNM"
      },
      "execution_count": null,
      "outputs": []
    },
    {
      "cell_type": "markdown",
      "source": [
        "##### What data splitting ratio have you used and why?"
      ],
      "metadata": {
        "id": "qjKvONjwE8ra"
      }
    },
    {
      "cell_type": "markdown",
      "source": [
        "Answer Here.\n",
        "\n",
        "i have used the ratio 8:2 for train ans test datasetas:\n",
        "\n",
        "i think the dataset is much divergent so there is need to ⁉\n",
        "\n",
        "\n",
        "  :make sure it does not underfit\n",
        "\n",
        "\n",
        "  :to provide better space for understanding"
      ],
      "metadata": {
        "id": "Y2lJ8cobFDb_"
      }
    },
    {
      "cell_type": "markdown",
      "source": [
        "## ***7. ML Model Implementation***"
      ],
      "metadata": {
        "id": "VfCC591jGiD4"
      }
    },
    {
      "cell_type": "markdown",
      "source": [
        "### ML Model - 1"
      ],
      "metadata": {
        "id": "OB4l2ZhMeS1U"
      }
    },
    {
      "cell_type": "code",
      "source": [
        "# ML Model - 1 Implementation\n",
        "from sklearn.linear_model import LinearRegression\n",
        "\n",
        "# Fit the Algorithm\n",
        "reg = LinearRegression().fit(X_train, y_train)\n",
        "\n",
        "print(reg.score(X_train, y_train))\n",
        "\n",
        "reg.coef_\n",
        "\n",
        "reg.intercept_\n",
        "\n",
        "# Predict on the model\n",
        "y_pred = reg.predict(X_test)\n",
        "\n",
        "y_pred\n",
        "\n",
        "from sklearn.metrics import mean_squared_error\n",
        "\n",
        "MSE  = mean_squared_error(y_test,y_pred)\n",
        "print(\"MSE :\" , MSE)\n",
        "\n",
        "RMSE = np.sqrt(MSE)\n",
        "print(\"RMSE :\" ,RMSE)"
      ],
      "metadata": {
        "id": "7ebyywQieS1U"
      },
      "execution_count": null,
      "outputs": []
    },
    {
      "cell_type": "code",
      "source": [
        "from sklearn.metrics import r2_score\n",
        "r2 = r2_score(y_test,y_pred)\n",
        "print(\"R2 :\" ,r2)"
      ],
      "metadata": {
        "id": "Xt02iTI9lEOE"
      },
      "execution_count": null,
      "outputs": []
    },
    {
      "cell_type": "markdown",
      "source": [
        "#### 1. Explain the ML Model used and it's performance using Evaluation metric Score Chart."
      ],
      "metadata": {
        "id": "ArJBuiUVfxKd"
      }
    },
    {
      "cell_type": "code",
      "source": [
        "#visualiazation\n",
        "plt.scatter(y_pred,y_test)\n",
        "plt.plot()"
      ],
      "metadata": {
        "id": "_4mje1wPopcX"
      },
      "execution_count": null,
      "outputs": []
    },
    {
      "cell_type": "markdown",
      "source": [
        "#### 2. model-2"
      ],
      "metadata": {
        "id": "4qY1EAkEfxKe"
      }
    },
    {
      "cell_type": "code",
      "metadata": {
        "id": "VFtkEDQPVzRV"
      },
      "source": [
        "from sklearn.linear_model import Lasso\n",
        "lasso  = Lasso(alpha=0.0001 , max_iter= 3000)\n",
        "\n",
        "lasso.fit(X_train, y_train)"
      ],
      "execution_count": null,
      "outputs": []
    },
    {
      "cell_type": "code",
      "source": [],
      "metadata": {
        "id": "gEY5EdkZV0ab"
      },
      "execution_count": null,
      "outputs": []
    },
    {
      "cell_type": "code",
      "metadata": {
        "id": "tfe3kQB6tKjO"
      },
      "source": [
        "lasso.score(X_train, y_train)"
      ],
      "execution_count": null,
      "outputs": []
    },
    {
      "cell_type": "code",
      "source": [
        "# ML Model - 1 Implementation with hyperparameter optimization techniques (i.e., GridSearch CV, RandomSearch CV, Bayesian Optimization etc.)\n",
        "\n",
        "\n",
        "from sklearn.model_selection import GridSearchCV\n",
        "lasso = Lasso()\n",
        "parameters = {'alpha': [1e-15,1e-13,1e-10,1e-8,1e-5,1e-4,1e-3,1e-2,1e-1,1,5,10,20,30,40,45,50,55,60,100,0.0014]}\n",
        "lasso_regressor = GridSearchCV(lasso, parameters, scoring='neg_mean_squared_error', cv=5)\n",
        "lasso_regressor.fit(X_train, y_train)\n",
        "y_pred_lasso = lasso_regressor.predict(X_test)\n"
      ],
      "metadata": {
        "id": "Dy61ujd6fxKe"
      },
      "execution_count": null,
      "outputs": []
    },
    {
      "cell_type": "code",
      "metadata": {
        "id": "VUCLA0vRxqSK"
      },
      "source": [
        "print(\"The best fit alpha value is found out to be :\" ,lasso_regressor.best_params_)\n",
        "print(\"\\nUsing \",lasso_regressor.best_params_, \" the negative mean squared error is: \", lasso_regressor.best_score_)"
      ],
      "execution_count": null,
      "outputs": []
    },
    {
      "cell_type": "code",
      "metadata": {
        "id": "EtlI_U57sweE"
      },
      "source": [
        "from sklearn.linear_model import Lasso\n",
        "lasso  = Lasso(alpha=0.0001 , max_iter= 3000)\n",
        "\n",
        "lasso.fit(X_train, y_train)"
      ],
      "execution_count": null,
      "outputs": []
    },
    {
      "cell_type": "code",
      "source": [
        "MSE  = mean_squared_error((y_test), (y_pred_lasso))\n",
        "print(\"MSE :\" , MSE)\n",
        "\n",
        "RMSE = np.sqrt(MSE)\n",
        "print(\"RMSE :\" ,RMSE)\n",
        "\n",
        "r2 = r2_score((y_test), (y_pred_lasso))\n",
        "print(\"R2 :\" ,r2)"
      ],
      "metadata": {
        "id": "4NCnIDwYiM-N"
      },
      "execution_count": null,
      "outputs": []
    },
    {
      "cell_type": "code",
      "source": [
        "plt.scatter(y_pred_lasso,y_test)\n",
        "plt.plot()"
      ],
      "metadata": {
        "id": "rbOMuMxg0Gmi"
      },
      "execution_count": null,
      "outputs": []
    },
    {
      "cell_type": "markdown",
      "source": [
        "##### Which hyperparameter optimization technique have you used and why?"
      ],
      "metadata": {
        "id": "PiV4Ypx8fxKe"
      }
    },
    {
      "cell_type": "markdown",
      "source": [
        "Answer Here.\n",
        "\n",
        "i have used gridsearchCV here because:\n",
        "\n",
        "\n",
        "it tries all the combinations of values passed\n",
        "\n",
        "evaluates the model for each combination using cross-validation method.\n",
        "\n",
        "we get accuracy/loss for every combination of hyperparameters\n",
        "\n",
        "we can choose one with best performance\n",
        "\n"
      ],
      "metadata": {
        "id": "negyGRa7fxKf"
      }
    },
    {
      "cell_type": "markdown",
      "source": [
        "##### Have you seen any improvement? Note down the improvement with updates Evaluation metric Score Chart."
      ],
      "metadata": {
        "id": "TfvqoZmBfxKf"
      }
    },
    {
      "cell_type": "markdown",
      "source": [
        "Answer Here.\n",
        "\n",
        "basically models are somehow the same ,no as such improvement can be seen\n",
        "\n",
        "\n"
      ],
      "metadata": {
        "id": "OaLui8CcfxKf"
      }
    },
    {
      "cell_type": "markdown",
      "source": [
        "#model-3"
      ],
      "metadata": {
        "id": "8a40ESZNkTNH"
      }
    },
    {
      "cell_type": "code",
      "source": [
        "# Importing modules that are required\n",
        "\n",
        "from sklearn.model_selection import train_test_split\n",
        "from sklearn.metrics import r2_score\n",
        "from sklearn.linear_model import BayesianRidge\n",
        "\n",
        "\n",
        "\n",
        "# Creating and training model\n",
        "model = BayesianRidge()\n",
        "model.fit(X_train, y_train)\n",
        "\n",
        "# Model making a prediction on test data\n",
        "prediction = model.predict(X_test)\n",
        "\n",
        "# Evaluation of r2 score of the model against the test set\n",
        "print(f\"r2 Score Of Test Set : {r2_score(y_test, prediction)}\")\n"
      ],
      "metadata": {
        "id": "LpqvLf37kN6r"
      },
      "execution_count": null,
      "outputs": []
    },
    {
      "cell_type": "code",
      "source": [
        "MSE  = mean_squared_error(y_test,y_pred)\n",
        "print(\"MSE :\" , MSE)\n",
        "\n",
        "RMSE = np.sqrt(MSE)\n",
        "print(\"RMSE :\" ,RMSE)\n",
        "\n",
        "r2 = r2_score(y_test,y_pred)"
      ],
      "metadata": {
        "id": "ErLrBbSAmVBN"
      },
      "execution_count": null,
      "outputs": []
    },
    {
      "cell_type": "code",
      "source": [
        "plt.scatter(prediction,y_test)\n",
        "\n",
        "plt.show()"
      ],
      "metadata": {
        "id": "cJrsYLaZmm37"
      },
      "execution_count": null,
      "outputs": []
    },
    {
      "cell_type": "markdown",
      "source": [
        "### 1. Which Evaluation metrics did you consider for a positive business impact and why?"
      ],
      "metadata": {
        "id": "h_CCil-SKHpo"
      }
    },
    {
      "cell_type": "markdown",
      "source": [
        "Answer Here.\n",
        "\n",
        "i have used accuracy as my evaluation metrices as:\n",
        "\n",
        "it gives the accuracy point and help us understand our model\n",
        "\n",
        "it provies space dor further work\n",
        "\n"
      ],
      "metadata": {
        "id": "jHVz9hHDKFms"
      }
    },
    {
      "cell_type": "markdown",
      "source": [
        "### 2. Which ML model did you choose from the above created models as your final prediction model and why?"
      ],
      "metadata": {
        "id": "cBFFvTBNJzUa"
      }
    },
    {
      "cell_type": "markdown",
      "source": [
        "Answer Here.\n",
        "\n",
        "\n",
        "i will choose linear regression model as my final prediaction model as:\n",
        "\n",
        "it has better acuracy\n",
        "\n",
        "it has small error"
      ],
      "metadata": {
        "id": "6ksF5Q1LKTVm"
      }
    },
    {
      "cell_type": "markdown",
      "source": [
        "### 3. Explain the model which you have used and the feature importance using any model explainability tool?"
      ],
      "metadata": {
        "id": "HvGl1hHyA_VK"
      }
    },
    {
      "cell_type": "markdown",
      "source": [
        "Answer Here.\n",
        "\n",
        "here by i have used linear regression and random forest ,my aimin doing it was to:\n",
        "\n",
        "prepare a more visible and better model\n",
        "\n",
        "to make more understanding out of it\n",
        "\n",
        "to design accurate model\n",
        "\n",
        "hereby i have chosen importatnt features in my model with small vif"
      ],
      "metadata": {
        "id": "YnvVTiIxBL-C"
      }
    },
    {
      "cell_type": "markdown",
      "source": [
        "# **Conclusion**"
      ],
      "metadata": {
        "id": "gCX9965dhzqZ"
      }
    },
    {
      "cell_type": "markdown",
      "source": [
        "Write the conclusion here.\n",
        "\n",
        "Hereby we can conclude the following points by working on our dataset :\n",
        "\n",
        "1.There is positive degree correlation of some extent in temperature and dew point temperature.\n",
        "\n",
        "2.There is positive degree correlation of some extent in  rainfall and visibility.\n",
        "\n",
        "3.hereby we are to prepare a model which predicts independent variables to some accuracy.\n",
        "\n",
        "4.no. of hours and temperature had a great impact on dependent variable hereby rented bike count.\n",
        "\n",
        "5.here no. of hours is something in our hand so we can adjust it in some ways or other for rented bike count.\n",
        "\n",
        "6.rented bike count has almost no correlation with wind speed.\n",
        "\n",
        "7.our models give us a good level of accuracy here."
      ],
      "metadata": {
        "id": "Fjb1IsQkh3yE"
      }
    },
    {
      "cell_type": "markdown",
      "source": [
        "### ***Hurrah! You have successfully completed your Machine Learning Capstone Project !!!***"
      ],
      "metadata": {
        "id": "gIfDvo9L0UH2"
      }
    }
  ]
}